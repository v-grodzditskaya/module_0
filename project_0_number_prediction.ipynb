{
 "cells": [
  {
   "cell_type": "markdown",
   "metadata": {},
   "source": [
    "# Grodzditskaya Victoria"
   ]
  },
  {
   "cell_type": "markdown",
   "metadata": {},
   "source": [
    "Kомпьютер загадывает целое число от 1 до 100. Написать программу, которая угадывает это число."
   ]
  },
  {
   "cell_type": "code",
   "execution_count": 55,
   "metadata": {},
   "outputs": [
    {
     "name": "stdout",
     "output_type": "stream",
     "text": [
      "Ваш алгоритм угадывает число в среднем за 5 попыток\n"
     ]
    },
    {
     "data": {
      "text/plain": [
       "5"
      ]
     },
     "execution_count": 55,
     "metadata": {},
     "output_type": "execute_result"
    }
   ],
   "source": [
    "import numpy as np\n",
    "\n",
    "\n",
    "#создаём функцию для бинарного поиска с аргументом key - загаданное компьютером число;\n",
    "def binarySearch(number):\n",
    "    alist = range(101)\n",
    "    first = 0  #первый элемент списка\n",
    "    last = len(alist) - 1  #последний элемент списка\n",
    "    found = False  #первоначальный статус найденного загаданного компьютером числа\n",
    "    counter = 0\n",
    "    while first <= last and not found:  #создаем цикл для поиска нужного элемента\n",
    "        midpoint = (first + last) // 2  #находим среднее значение в списке\n",
    "        counter += 1\n",
    "        #если среднее значение списка - искомое число\n",
    "        if alist[midpoint] == number:\n",
    "            found = True  #тогда программа угадала загаданное компьютером число\n",
    "        else:  #а если нет, то двигаемся по циклу дальше\n",
    "            #если искомое число меньше среднего значения списка\n",
    "            if number < alist[midpoint]:\n",
    "                last = midpoint - 1  #\n",
    "            else:\n",
    "                first = midpoint + 1  #\n",
    "\n",
    "    return counter  #\n",
    "\n",
    "\n",
    "def score_game(game_core):\n",
    "    '''Запускаем игру 1000 раз, чтобы узнать, как быстро игра угадывает число'''\n",
    "    count_ls = []\n",
    "    np.random.seed(\n",
    "        1)  # фиксируем RANDOM SEED, чтобы ваш эксперимент был воспроизводим!\n",
    "    random_array = np.random.randint(1, 101, size=(1000))\n",
    "    for number in random_array:\n",
    "        count_ls.append(game_core(number))\n",
    "    score = int(np.mean(count_ls))\n",
    "    print(f\"Ваш алгоритм угадывает число в среднем за {score} попыток\")\n",
    "    return (score)\n",
    "\n",
    "\n",
    "score_game(binarySearch)"
   ]
  },
  {
   "cell_type": "code",
   "execution_count": null,
   "metadata": {},
   "outputs": [],
   "source": []
  },
  {
   "cell_type": "code",
   "execution_count": null,
   "metadata": {},
   "outputs": [],
   "source": []
  }
 ],
 "metadata": {
  "kernelspec": {
   "display_name": "Python 3",
   "language": "python",
   "name": "python3"
  },
  "language_info": {
   "codemirror_mode": {
    "name": "ipython",
    "version": 3
   },
   "file_extension": ".py",
   "mimetype": "text/x-python",
   "name": "python",
   "nbconvert_exporter": "python",
   "pygments_lexer": "ipython3",
   "version": "3.8.3"
  }
 },
 "nbformat": 4,
 "nbformat_minor": 4
}
