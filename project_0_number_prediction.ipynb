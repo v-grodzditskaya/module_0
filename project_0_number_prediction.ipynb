{
 "cells": [
  {
   "cell_type": "markdown",
   "metadata": {},
   "source": [
    "# Grodzditskaya Victoria"
   ]
  },
  {
   "cell_type": "markdown",
   "metadata": {},
   "source": [
    "Kомпьютер загадывает целое число от 1 до 100. Написать программу, которая угадывает это число за минимальное количество попыток."
   ]
  },
  {
   "cell_type": "code",
   "execution_count": 70,
   "metadata": {
    "scrolled": false
   },
   "outputs": [
    {
     "name": "stdout",
     "output_type": "stream",
     "text": [
      "Ваш алгоритм угадывает число в среднем за 5 попыток\n"
     ]
    },
    {
     "data": {
      "text/plain": [
       "5"
      ]
     },
     "execution_count": 70,
     "metadata": {},
     "output_type": "execute_result"
    }
   ],
   "source": [
    "import numpy as np\n",
    "\n",
    "\n",
    "# создаём функцию для бинарного поиска с аргументом number - загаданное компьютером число\n",
    "def binary_search(number):\n",
    "    alist = range(101)\n",
    "    first = 0  \n",
    "    last = len(alist) - 1  \n",
    "    found = False  \n",
    "    counter = 0\n",
    "    while first <= last and not found:    # создаем цикл для поиска нужного элемента\n",
    "        midpoint = (first + last) // 2    \n",
    "        counter += 1                      # счетчик попыток угадать число\n",
    "        if alist[midpoint] == number:  \n",
    "            found = True  \n",
    "        else:  \n",
    "            if number < alist[midpoint]:  \n",
    "                last = midpoint - 1  \n",
    "            else:\n",
    "                first = midpoint + 1  \n",
    "    return counter                        \n",
    "\n",
    "# основная логика программы\n",
    "def score_game(game_core):\n",
    "    count_ls = []\n",
    "    # фиксируем random seed, чтобы наш эксперимент был воспроизводим\n",
    "    np.random.seed(1)\n",
    "    random_array = np.random.randint(1, 101, size = (1000))\n",
    "    for number in random_array:\n",
    "        count_ls.append(game_core(number))  \n",
    "    # среднее арифметическое всех попыток угадать загаданное компьютером число\n",
    "    score = int(np.mean(count_ls))\n",
    "    print(f\"Ваш алгоритм угадывает число в среднем за {score} попыток\")\n",
    "    return (score)\n",
    "\n",
    "# запуск игры\n",
    "score_game(binary_search)"
   ]
  }
 ],
 "metadata": {
  "kernelspec": {
   "display_name": "Python 3",
   "language": "python",
   "name": "python3"
  },
  "language_info": {
   "codemirror_mode": {
    "name": "ipython",
    "version": 3
   },
   "file_extension": ".py",
   "mimetype": "text/x-python",
   "name": "python",
   "nbconvert_exporter": "python",
   "pygments_lexer": "ipython3",
   "version": "3.8.3"
  }
 },
 "nbformat": 4,
 "nbformat_minor": 4
}
